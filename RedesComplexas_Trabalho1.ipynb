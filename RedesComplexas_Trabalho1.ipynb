{
  "nbformat": 4,
  "nbformat_minor": 0,
  "metadata": {
    "kernelspec": {
      "display_name": "Python 3",
      "language": "python",
      "name": "python3"
    },
    "language_info": {
      "codemirror_mode": {
        "name": "ipython",
        "version": 3
      },
      "file_extension": ".py",
      "mimetype": "text/x-python",
      "name": "python",
      "nbconvert_exporter": "python",
      "pygments_lexer": "ipython3",
      "version": "3.8.3"
    },
    "colab": {
      "name": "RedesComplexas_Trabalho1.ipynb",
      "provenance": [],
      "collapsed_sections": []
    }
  },
  "cells": [
    {
      "cell_type": "code",
      "metadata": {
        "id": "opXFbQ0Zu5L6",
        "colab": {
          "base_uri": "https://localhost:8080/"
        },
        "outputId": "917e92ae-8059-4ad9-ef67-0d32d5ad2828"
      },
      "source": [
        "!echo \"deb http://downloads.skewed.de/apt bionic main\" >> /etc/apt/sources.list\n",
        "!apt-key adv --keyserver keys.openpgp.org --recv-key 612DEFB798507F25\n",
        "!apt-get update\n",
        "!apt-get install python3-graph-tool python3-cairo python3-matplotlib\n",
        "import graph_tool as gt\n",
        "from graph_tool.all import *\n",
        "import matplotlib.pyplot as plt\n",
        "import pandas as pd\n",
        "import numpy as np\n",
        "from google.colab import drive\n",
        "drive.mount('/content/drive')"
      ],
      "execution_count": null,
      "outputs": [
        {
          "output_type": "stream",
          "text": [
            "Executing: /tmp/apt-key-gpghome.SLJ1bH1x4g/gpg.1.sh --keyserver keys.openpgp.org --recv-key 612DEFB798507F25\n",
            "gpg: key 612DEFB798507F25: public key \"Tiago de Paula Peixoto <tiago@skewed.de>\" imported\n",
            "gpg: Total number processed: 1\n",
            "gpg:               imported: 1\n",
            "Get:1 https://cloud.r-project.org/bin/linux/ubuntu bionic-cran40/ InRelease [3,626 B]\n",
            "Ign:2 https://developer.download.nvidia.com/compute/cuda/repos/ubuntu1804/x86_64  InRelease\n",
            "Get:3 https://cloud.r-project.org/bin/linux/ubuntu bionic-cran40/ Packages [40.1 kB]\n",
            "Ign:4 https://developer.download.nvidia.com/compute/machine-learning/repos/ubuntu1804/x86_64  InRelease\n",
            "Get:5 https://developer.download.nvidia.com/compute/cuda/repos/ubuntu1804/x86_64  Release [697 B]\n",
            "Hit:6 https://developer.download.nvidia.com/compute/machine-learning/repos/ubuntu1804/x86_64  Release\n",
            "Get:7 https://developer.download.nvidia.com/compute/cuda/repos/ubuntu1804/x86_64  Release.gpg [836 B]\n",
            "Get:8 http://ppa.launchpad.net/c2d4u.team/c2d4u4.0+/ubuntu bionic InRelease [15.9 kB]\n",
            "Get:9 http://security.ubuntu.com/ubuntu bionic-security InRelease [88.7 kB]\n",
            "Hit:11 http://archive.ubuntu.com/ubuntu bionic InRelease\n",
            "Get:12 http://downloads.skewed.de/apt bionic InRelease [4,310 B]\n",
            "Get:13 http://archive.ubuntu.com/ubuntu bionic-updates InRelease [88.7 kB]\n",
            "Ign:14 https://developer.download.nvidia.com/compute/cuda/repos/ubuntu1804/x86_64  Packages\n",
            "Get:14 https://developer.download.nvidia.com/compute/cuda/repos/ubuntu1804/x86_64  Packages [405 kB]\n",
            "Get:15 http://ppa.launchpad.net/graphics-drivers/ppa/ubuntu bionic InRelease [21.3 kB]\n",
            "Get:16 http://downloads.skewed.de/apt bionic/main amd64 Packages [1,597 B]\n",
            "Get:17 http://archive.ubuntu.com/ubuntu bionic-backports InRelease [74.6 kB]\n",
            "Get:18 http://security.ubuntu.com/ubuntu bionic-security/universe amd64 Packages [1,353 kB]\n",
            "Get:19 http://ppa.launchpad.net/c2d4u.team/c2d4u4.0+/ubuntu bionic/main Sources [1,687 kB]\n",
            "Get:20 http://archive.ubuntu.com/ubuntu bionic-updates/main amd64 Packages [2,167 kB]\n",
            "Get:21 http://security.ubuntu.com/ubuntu bionic-security/main amd64 Packages [1,749 kB]\n",
            "Get:22 http://archive.ubuntu.com/ubuntu bionic-updates/universe amd64 Packages [2,118 kB]\n",
            "Get:23 http://ppa.launchpad.net/c2d4u.team/c2d4u4.0+/ubuntu bionic/main amd64 Packages [864 kB]\n",
            "Get:24 http://ppa.launchpad.net/graphics-drivers/ppa/ubuntu bionic/main amd64 Packages [48.9 kB]\n",
            "Fetched 10.7 MB in 6s (1,681 kB/s)\n",
            "Reading package lists... Done\n",
            "Reading package lists... Done\n",
            "Building dependency tree       \n",
            "Reading state information... Done\n",
            "The following additional packages will be installed:\n",
            "  fonts-lyx gir1.2-atk-1.0 gir1.2-freedesktop gir1.2-gdkpixbuf-2.0\n",
            "  gir1.2-gtk-3.0 gir1.2-pango-1.0 javascript-common libcairomm-1.0-1v5\n",
            "  libjs-jquery libjs-jquery-ui libpangoxft-1.0-0 libsigc++-2.0-0v5\n",
            "  python-backports.functools-lru-cache python-cairo python-cycler\n",
            "  python-dateutil python-gi python-gi-cairo python-gv python-matplotlib\n",
            "  python-matplotlib-data python-olefile python-pil python-pyparsing python-six\n",
            "  python-subprocess32 python-tz python3-cycler python3-dateutil\n",
            "  python3-decorator python3-olefile python3-pil python3-pyparsing\n",
            "  python3-scipy python3-six python3-tz ttf-bitstream-vera\n",
            "Suggested packages:\n",
            "  apache2 | lighttpd | httpd libjs-jquery-ui-docs python-cycler-doc dvipng\n",
            "  ghostscript inkscape ipython python-cairocffi python-configobj\n",
            "  python-excelerator python-gobject python-matplotlib-doc python-nose\n",
            "  python-qt4 python-scipy python-sip python-tornado python-traits\n",
            "  python-wxgtk3.0 texlive-extra-utils texlive-latex-extra ttf-staypuft\n",
            "  python-pil-doc python-pil-dbg python-pyparsing-doc ipython3\n",
            "  python3-cairocffi python3-gi-cairo python3-gobject python3-nose\n",
            "  python3-pyqt4 python3-sip python3-tornado python3-pil-dbg python-scipy-doc\n",
            "The following NEW packages will be installed:\n",
            "  fonts-lyx gir1.2-atk-1.0 gir1.2-freedesktop gir1.2-gdkpixbuf-2.0\n",
            "  gir1.2-gtk-3.0 gir1.2-pango-1.0 javascript-common libcairomm-1.0-1v5\n",
            "  libjs-jquery libjs-jquery-ui libpangoxft-1.0-0 libsigc++-2.0-0v5\n",
            "  python-backports.functools-lru-cache python-cairo python-cycler\n",
            "  python-dateutil python-gi python-gi-cairo python-gv python-matplotlib\n",
            "  python-matplotlib-data python-olefile python-pil python-pyparsing python-six\n",
            "  python-subprocess32 python-tz python3-cairo python3-cycler python3-dateutil\n",
            "  python3-decorator python3-graph-tool python3-matplotlib python3-olefile\n",
            "  python3-pil python3-pyparsing python3-scipy python3-six python3-tz\n",
            "  ttf-bitstream-vera\n",
            "0 upgraded, 40 newly installed, 0 to remove and 34 not upgraded.\n",
            "Need to get 61.9 MB of archives.\n",
            "After this operation, 381 MB of additional disk space will be used.\n",
            "Get:1 http://archive.ubuntu.com/ubuntu bionic-updates/universe amd64 fonts-lyx all 2.2.4-0ubuntu0.18.04.1 [155 kB]\n",
            "Get:2 http://downloads.skewed.de/apt bionic/main amd64 python3-graph-tool amd64 2.35 [38.1 MB]\n",
            "Get:3 http://archive.ubuntu.com/ubuntu bionic/main amd64 gir1.2-atk-1.0 amd64 2.28.1-1 [17.8 kB]\n",
            "Get:4 http://archive.ubuntu.com/ubuntu bionic/main amd64 gir1.2-freedesktop amd64 1.56.1-1 [9,080 B]\n",
            "Get:5 http://archive.ubuntu.com/ubuntu bionic/main amd64 gir1.2-gdkpixbuf-2.0 amd64 2.36.11-2 [7,748 B]\n",
            "Get:6 http://archive.ubuntu.com/ubuntu bionic-updates/main amd64 libpangoxft-1.0-0 amd64 1.40.14-1ubuntu0.1 [15.0 kB]\n",
            "Get:7 http://archive.ubuntu.com/ubuntu bionic-updates/main amd64 gir1.2-pango-1.0 amd64 1.40.14-1ubuntu0.1 [21.6 kB]\n",
            "Get:8 http://archive.ubuntu.com/ubuntu bionic-updates/main amd64 gir1.2-gtk-3.0 amd64 3.22.30-1ubuntu4 [194 kB]\n",
            "Get:9 http://archive.ubuntu.com/ubuntu bionic/main amd64 javascript-common all 11 [6,066 B]\n",
            "Get:10 http://archive.ubuntu.com/ubuntu bionic/main amd64 libsigc++-2.0-0v5 amd64 2.10.0-2 [10.9 kB]\n",
            "Get:11 http://archive.ubuntu.com/ubuntu bionic/main amd64 libcairomm-1.0-1v5 amd64 1.12.2-3 [37.1 kB]\n",
            "Get:12 http://archive.ubuntu.com/ubuntu bionic/main amd64 libjs-jquery all 3.2.1-1 [152 kB]\n",
            "Get:13 http://archive.ubuntu.com/ubuntu bionic/universe amd64 libjs-jquery-ui all 1.12.1+dfsg-5 [232 kB]\n",
            "Get:14 http://archive.ubuntu.com/ubuntu bionic/universe amd64 python-backports.functools-lru-cache all 1.4-2 [5,960 B]\n",
            "Get:15 http://archive.ubuntu.com/ubuntu bionic/main amd64 python-cairo amd64 1.16.2-1 [56.4 kB]\n",
            "Get:16 http://archive.ubuntu.com/ubuntu bionic/main amd64 python-six all 1.11.0-2 [11.3 kB]\n",
            "Get:17 http://archive.ubuntu.com/ubuntu bionic/universe amd64 python-cycler all 0.10.0-1 [7,520 B]\n",
            "Get:18 http://archive.ubuntu.com/ubuntu bionic/main amd64 python-dateutil all 2.6.1-1 [60.6 kB]\n",
            "Get:19 http://archive.ubuntu.com/ubuntu bionic-updates/main amd64 python-gi amd64 3.26.1-2ubuntu1 [197 kB]\n",
            "Get:20 http://archive.ubuntu.com/ubuntu bionic-updates/universe amd64 python-gi-cairo amd64 3.26.1-2ubuntu1 [6,632 B]\n",
            "Get:21 http://archive.ubuntu.com/ubuntu bionic/universe amd64 python-gv amd64 2.40.1-2 [32.3 kB]\n",
            "Get:22 http://archive.ubuntu.com/ubuntu bionic/universe amd64 ttf-bitstream-vera all 1.10-8 [352 kB]\n",
            "Get:23 http://archive.ubuntu.com/ubuntu bionic/universe amd64 python-matplotlib-data all 2.1.1-2ubuntu3 [3,774 kB]\n",
            "Get:24 http://archive.ubuntu.com/ubuntu bionic/main amd64 python-pyparsing all 2.2.0+dfsg1-2 [52.1 kB]\n",
            "Get:25 http://archive.ubuntu.com/ubuntu bionic/main amd64 python-tz all 2018.3-2 [31.6 kB]\n",
            "Get:26 http://archive.ubuntu.com/ubuntu bionic/universe amd64 python-subprocess32 amd64 3.2.7-3 [27.2 kB]\n",
            "Get:27 http://archive.ubuntu.com/ubuntu bionic/universe amd64 python-matplotlib amd64 2.1.1-2ubuntu3 [3,901 kB]\n",
            "Get:28 http://archive.ubuntu.com/ubuntu bionic/main amd64 python-olefile all 0.45.1-1 [33.2 kB]\n",
            "Get:29 http://archive.ubuntu.com/ubuntu bionic-updates/main amd64 python-pil amd64 5.1.0-1ubuntu0.3 [301 kB]\n",
            "Get:30 http://archive.ubuntu.com/ubuntu bionic/main amd64 python3-cairo amd64 1.16.2-1 [56.1 kB]\n",
            "Get:31 http://archive.ubuntu.com/ubuntu bionic/main amd64 python3-six all 1.11.0-2 [11.4 kB]\n",
            "Get:32 http://archive.ubuntu.com/ubuntu bionic/universe amd64 python3-cycler all 0.10.0-1 [7,622 B]\n",
            "Get:33 http://archive.ubuntu.com/ubuntu bionic/main amd64 python3-dateutil all 2.6.1-1 [52.3 kB]\n",
            "Get:34 http://archive.ubuntu.com/ubuntu bionic/universe amd64 python3-decorator all 4.1.2-1 [9,364 B]\n",
            "Get:35 http://archive.ubuntu.com/ubuntu bionic/main amd64 python3-pyparsing all 2.2.0+dfsg1-2 [52.2 kB]\n",
            "Get:36 http://archive.ubuntu.com/ubuntu bionic/main amd64 python3-tz all 2018.3-2 [25.1 kB]\n",
            "Get:37 http://archive.ubuntu.com/ubuntu bionic/universe amd64 python3-matplotlib amd64 2.1.1-2ubuntu3 [3,907 kB]\n",
            "Get:38 http://archive.ubuntu.com/ubuntu bionic/main amd64 python3-olefile all 0.45.1-1 [33.3 kB]\n",
            "Get:39 http://archive.ubuntu.com/ubuntu bionic-updates/main amd64 python3-pil amd64 5.1.0-1ubuntu0.3 [330 kB]\n",
            "Get:40 http://archive.ubuntu.com/ubuntu bionic/universe amd64 python3-scipy amd64 0.19.1-2ubuntu1 [9,619 kB]\n",
            "Fetched 61.9 MB in 7s (9,379 kB/s)\n",
            "Extracting templates from packages: 100%\n",
            "Selecting previously unselected package fonts-lyx.\n",
            "(Reading database ... 144628 files and directories currently installed.)\n",
            "Preparing to unpack .../00-fonts-lyx_2.2.4-0ubuntu0.18.04.1_all.deb ...\n",
            "Unpacking fonts-lyx (2.2.4-0ubuntu0.18.04.1) ...\n",
            "Selecting previously unselected package gir1.2-atk-1.0:amd64.\n",
            "Preparing to unpack .../01-gir1.2-atk-1.0_2.28.1-1_amd64.deb ...\n",
            "Unpacking gir1.2-atk-1.0:amd64 (2.28.1-1) ...\n",
            "Selecting previously unselected package gir1.2-freedesktop:amd64.\n",
            "Preparing to unpack .../02-gir1.2-freedesktop_1.56.1-1_amd64.deb ...\n",
            "Unpacking gir1.2-freedesktop:amd64 (1.56.1-1) ...\n",
            "Selecting previously unselected package gir1.2-gdkpixbuf-2.0:amd64.\n",
            "Preparing to unpack .../03-gir1.2-gdkpixbuf-2.0_2.36.11-2_amd64.deb ...\n",
            "Unpacking gir1.2-gdkpixbuf-2.0:amd64 (2.36.11-2) ...\n",
            "Selecting previously unselected package libpangoxft-1.0-0:amd64.\n",
            "Preparing to unpack .../04-libpangoxft-1.0-0_1.40.14-1ubuntu0.1_amd64.deb ...\n",
            "Unpacking libpangoxft-1.0-0:amd64 (1.40.14-1ubuntu0.1) ...\n",
            "Selecting previously unselected package gir1.2-pango-1.0:amd64.\n",
            "Preparing to unpack .../05-gir1.2-pango-1.0_1.40.14-1ubuntu0.1_amd64.deb ...\n",
            "Unpacking gir1.2-pango-1.0:amd64 (1.40.14-1ubuntu0.1) ...\n",
            "Selecting previously unselected package gir1.2-gtk-3.0:amd64.\n",
            "Preparing to unpack .../06-gir1.2-gtk-3.0_3.22.30-1ubuntu4_amd64.deb ...\n",
            "Unpacking gir1.2-gtk-3.0:amd64 (3.22.30-1ubuntu4) ...\n",
            "Selecting previously unselected package javascript-common.\n",
            "Preparing to unpack .../07-javascript-common_11_all.deb ...\n",
            "Unpacking javascript-common (11) ...\n",
            "Selecting previously unselected package libsigc++-2.0-0v5:amd64.\n",
            "Preparing to unpack .../08-libsigc++-2.0-0v5_2.10.0-2_amd64.deb ...\n",
            "Unpacking libsigc++-2.0-0v5:amd64 (2.10.0-2) ...\n",
            "Selecting previously unselected package libcairomm-1.0-1v5:amd64.\n",
            "Preparing to unpack .../09-libcairomm-1.0-1v5_1.12.2-3_amd64.deb ...\n",
            "Unpacking libcairomm-1.0-1v5:amd64 (1.12.2-3) ...\n",
            "Selecting previously unselected package libjs-jquery.\n",
            "Preparing to unpack .../10-libjs-jquery_3.2.1-1_all.deb ...\n",
            "Unpacking libjs-jquery (3.2.1-1) ...\n",
            "Selecting previously unselected package libjs-jquery-ui.\n",
            "Preparing to unpack .../11-libjs-jquery-ui_1.12.1+dfsg-5_all.deb ...\n",
            "Unpacking libjs-jquery-ui (1.12.1+dfsg-5) ...\n",
            "Selecting previously unselected package python-backports.functools-lru-cache.\n",
            "Preparing to unpack .../12-python-backports.functools-lru-cache_1.4-2_all.deb ...\n",
            "Unpacking python-backports.functools-lru-cache (1.4-2) ...\n",
            "Selecting previously unselected package python-cairo:amd64.\n",
            "Preparing to unpack .../13-python-cairo_1.16.2-1_amd64.deb ...\n",
            "Unpacking python-cairo:amd64 (1.16.2-1) ...\n",
            "Selecting previously unselected package python-six.\n",
            "Preparing to unpack .../14-python-six_1.11.0-2_all.deb ...\n",
            "Unpacking python-six (1.11.0-2) ...\n",
            "Selecting previously unselected package python-cycler.\n",
            "Preparing to unpack .../15-python-cycler_0.10.0-1_all.deb ...\n",
            "Unpacking python-cycler (0.10.0-1) ...\n",
            "Selecting previously unselected package python-dateutil.\n",
            "Preparing to unpack .../16-python-dateutil_2.6.1-1_all.deb ...\n",
            "Unpacking python-dateutil (2.6.1-1) ...\n",
            "Selecting previously unselected package python-gi.\n",
            "Preparing to unpack .../17-python-gi_3.26.1-2ubuntu1_amd64.deb ...\n",
            "Unpacking python-gi (3.26.1-2ubuntu1) ...\n",
            "Selecting previously unselected package python-gi-cairo.\n",
            "Preparing to unpack .../18-python-gi-cairo_3.26.1-2ubuntu1_amd64.deb ...\n",
            "Unpacking python-gi-cairo (3.26.1-2ubuntu1) ...\n",
            "Selecting previously unselected package python-gv.\n",
            "Preparing to unpack .../19-python-gv_2.40.1-2_amd64.deb ...\n",
            "Unpacking python-gv (2.40.1-2) ...\n",
            "Selecting previously unselected package ttf-bitstream-vera.\n",
            "Preparing to unpack .../20-ttf-bitstream-vera_1.10-8_all.deb ...\n",
            "Unpacking ttf-bitstream-vera (1.10-8) ...\n",
            "Selecting previously unselected package python-matplotlib-data.\n",
            "Preparing to unpack .../21-python-matplotlib-data_2.1.1-2ubuntu3_all.deb ...\n",
            "Unpacking python-matplotlib-data (2.1.1-2ubuntu3) ...\n",
            "Selecting previously unselected package python-pyparsing.\n",
            "Preparing to unpack .../22-python-pyparsing_2.2.0+dfsg1-2_all.deb ...\n",
            "Unpacking python-pyparsing (2.2.0+dfsg1-2) ...\n",
            "Selecting previously unselected package python-tz.\n",
            "Preparing to unpack .../23-python-tz_2018.3-2_all.deb ...\n",
            "Unpacking python-tz (2018.3-2) ...\n",
            "Selecting previously unselected package python-subprocess32.\n",
            "Preparing to unpack .../24-python-subprocess32_3.2.7-3_amd64.deb ...\n",
            "Unpacking python-subprocess32 (3.2.7-3) ...\n",
            "Selecting previously unselected package python-matplotlib.\n",
            "Preparing to unpack .../25-python-matplotlib_2.1.1-2ubuntu3_amd64.deb ...\n",
            "Unpacking python-matplotlib (2.1.1-2ubuntu3) ...\n",
            "Selecting previously unselected package python-olefile.\n",
            "Preparing to unpack .../26-python-olefile_0.45.1-1_all.deb ...\n",
            "Unpacking python-olefile (0.45.1-1) ...\n",
            "Selecting previously unselected package python-pil:amd64.\n",
            "Preparing to unpack .../27-python-pil_5.1.0-1ubuntu0.3_amd64.deb ...\n",
            "Unpacking python-pil:amd64 (5.1.0-1ubuntu0.3) ...\n",
            "Selecting previously unselected package python3-cairo:amd64.\n",
            "Preparing to unpack .../28-python3-cairo_1.16.2-1_amd64.deb ...\n",
            "Unpacking python3-cairo:amd64 (1.16.2-1) ...\n",
            "Selecting previously unselected package python3-six.\n",
            "Preparing to unpack .../29-python3-six_1.11.0-2_all.deb ...\n",
            "Unpacking python3-six (1.11.0-2) ...\n",
            "Selecting previously unselected package python3-cycler.\n",
            "Preparing to unpack .../30-python3-cycler_0.10.0-1_all.deb ...\n",
            "Unpacking python3-cycler (0.10.0-1) ...\n",
            "Selecting previously unselected package python3-dateutil.\n",
            "Preparing to unpack .../31-python3-dateutil_2.6.1-1_all.deb ...\n",
            "Unpacking python3-dateutil (2.6.1-1) ...\n",
            "Selecting previously unselected package python3-decorator.\n",
            "Preparing to unpack .../32-python3-decorator_4.1.2-1_all.deb ...\n",
            "Unpacking python3-decorator (4.1.2-1) ...\n",
            "Selecting previously unselected package python3-pyparsing.\n",
            "Preparing to unpack .../33-python3-pyparsing_2.2.0+dfsg1-2_all.deb ...\n",
            "Unpacking python3-pyparsing (2.2.0+dfsg1-2) ...\n",
            "Selecting previously unselected package python3-tz.\n",
            "Preparing to unpack .../34-python3-tz_2018.3-2_all.deb ...\n",
            "Unpacking python3-tz (2018.3-2) ...\n",
            "Selecting previously unselected package python3-matplotlib.\n",
            "Preparing to unpack .../35-python3-matplotlib_2.1.1-2ubuntu3_amd64.deb ...\n",
            "Unpacking python3-matplotlib (2.1.1-2ubuntu3) ...\n",
            "Selecting previously unselected package python3-olefile.\n",
            "Preparing to unpack .../36-python3-olefile_0.45.1-1_all.deb ...\n",
            "Unpacking python3-olefile (0.45.1-1) ...\n",
            "Selecting previously unselected package python3-pil:amd64.\n",
            "Preparing to unpack .../37-python3-pil_5.1.0-1ubuntu0.3_amd64.deb ...\n",
            "Unpacking python3-pil:amd64 (5.1.0-1ubuntu0.3) ...\n",
            "Selecting previously unselected package python3-scipy.\n",
            "Preparing to unpack .../38-python3-scipy_0.19.1-2ubuntu1_amd64.deb ...\n",
            "Unpacking python3-scipy (0.19.1-2ubuntu1) ...\n",
            "Selecting previously unselected package python3-graph-tool.\n",
            "Preparing to unpack .../39-python3-graph-tool_2.35_amd64.deb ...\n",
            "Unpacking python3-graph-tool (2.35) ...\n",
            "Setting up libjs-jquery (3.2.1-1) ...\n",
            "Setting up gir1.2-atk-1.0:amd64 (2.28.1-1) ...\n",
            "Setting up python3-pil:amd64 (5.1.0-1ubuntu0.3) ...\n",
            "Setting up python3-olefile (0.45.1-1) ...\n",
            "Setting up python-backports.functools-lru-cache (1.4-2) ...\n",
            "Setting up gir1.2-freedesktop:amd64 (1.56.1-1) ...\n",
            "Setting up python3-six (1.11.0-2) ...\n",
            "Setting up libpangoxft-1.0-0:amd64 (1.40.14-1ubuntu0.1) ...\n",
            "Setting up python-tz (2018.3-2) ...\n",
            "Setting up python3-pyparsing (2.2.0+dfsg1-2) ...\n",
            "Setting up python3-cycler (0.10.0-1) ...\n",
            "Setting up gir1.2-gdkpixbuf-2.0:amd64 (2.36.11-2) ...\n",
            "Setting up gir1.2-pango-1.0:amd64 (1.40.14-1ubuntu0.1) ...\n",
            "Setting up python-gi (3.26.1-2ubuntu1) ...\n",
            "Setting up python-six (1.11.0-2) ...\n",
            "Setting up python-gv (2.40.1-2) ...\n",
            "Setting up libjs-jquery-ui (1.12.1+dfsg-5) ...\n",
            "Setting up python-cairo:amd64 (1.16.2-1) ...\n",
            "Setting up python-olefile (0.45.1-1) ...\n",
            "Setting up ttf-bitstream-vera (1.10-8) ...\n",
            "Setting up python3-cairo:amd64 (1.16.2-1) ...\n",
            "Setting up javascript-common (11) ...\n",
            "Setting up python-subprocess32 (3.2.7-3) ...\n",
            "Setting up python3-decorator (4.1.2-1) ...\n",
            "Setting up python-pil:amd64 (5.1.0-1ubuntu0.3) ...\n",
            "Setting up libsigc++-2.0-0v5:amd64 (2.10.0-2) ...\n",
            "Setting up python3-tz (2018.3-2) ...\n",
            "Setting up python3-dateutil (2.6.1-1) ...\n",
            "Setting up fonts-lyx (2.2.4-0ubuntu0.18.04.1) ...\n",
            "Setting up python-pyparsing (2.2.0+dfsg1-2) ...\n",
            "Setting up python-gi-cairo (3.26.1-2ubuntu1) ...\n",
            "Setting up libcairomm-1.0-1v5:amd64 (1.12.2-3) ...\n",
            "Setting up python3-scipy (0.19.1-2ubuntu1) ...\n",
            "Setting up gir1.2-gtk-3.0:amd64 (3.22.30-1ubuntu4) ...\n",
            "Setting up python-matplotlib-data (2.1.1-2ubuntu3) ...\n",
            "Setting up python3-graph-tool (2.35) ...\n",
            "Setting up python-cycler (0.10.0-1) ...\n",
            "Setting up python-dateutil (2.6.1-1) ...\n",
            "Setting up python3-matplotlib (2.1.1-2ubuntu3) ...\n",
            "Setting up python-matplotlib (2.1.1-2ubuntu3) ...\n",
            "Processing triggers for fontconfig (2.12.6-0ubuntu2) ...\n",
            "Processing triggers for libc-bin (2.27-3ubuntu1.2) ...\n",
            "/sbin/ldconfig.real: /usr/local/lib/python3.6/dist-packages/ideep4py/lib/libmkldnn.so.0 is not a symbolic link\n",
            "\n",
            "Mounted at /content/drive\n"
          ],
          "name": "stdout"
        }
      ]
    },
    {
      "cell_type": "code",
      "metadata": {
        "id": "vqtd_9DKvWd4",
        "colab": {
          "base_uri": "https://localhost:8080/"
        },
        "outputId": "e5361d9f-78c1-448d-8552-5b23bad4da31"
      },
      "source": [
        "!ls '/content/drive/My Drive/Redes Complexas'\n"
      ],
      "execution_count": null,
      "outputs": [
        {
          "output_type": "stream",
          "text": [
            "adjnoun.gml  lesmis.gml\t\t\t    p2p-Gnutella04.txt\tTrabalho1.ipynb\n",
            "karate.gml   mixed.species_brain_1.graphml  power.gml\n"
          ],
          "name": "stdout"
        }
      ]
    },
    {
      "cell_type": "code",
      "metadata": {
        "id": "qTh3DmJevtfb"
      },
      "source": [
        "path = '/content/drive/My Drive/Redes Complexas/'"
      ],
      "execution_count": null,
      "outputs": []
    },
    {
      "cell_type": "code",
      "metadata": {
        "id": "2TORj1Hbu5MU"
      },
      "source": [
        "graphs = list()\n",
        "graphs.append(graph_tool.load_graph(path+'karate.gml'))\n",
        "graphs.append(graph_tool.load_graph(path+'mixed.species_brain_1.graphml'))\n",
        "graphs.append(graph_tool.load_graph(path+'adjnoun.gml'))\n",
        "graphs.append(graph_tool.load_graph(path+'lesmis.gml'))"
      ],
      "execution_count": null,
      "outputs": []
    },
    {
      "cell_type": "code",
      "metadata": {
        "id": "oOJnvRIaBJNd",
        "colab": {
          "base_uri": "https://localhost:8080/"
        },
        "outputId": "2b22b028-e425-4580-faf5-9428c6917ad9"
      },
      "source": [
        "for G in graphs:\n",
        "  print(G)"
      ],
      "execution_count": null,
      "outputs": [
        {
          "output_type": "stream",
          "text": [
            "<Graph object, undirected, with 34 vertices and 78 edges, at 0x7f7d54ca4390>\n",
            "<Graph object, directed, with 65 vertices and 1139 edges, 1 internal vertex property, 1 internal edge property, 4 internal graph properties, at 0x7f7d54ca4358>\n",
            "<Graph object, undirected, with 112 vertices and 425 edges, 2 internal vertex properties, at 0x7f7d54ca4630>\n",
            "<Graph object, undirected, with 77 vertices and 254 edges, 1 internal vertex property, 1 internal edge property, at 0x7f7d54ca47b8>\n"
          ],
          "name": "stdout"
        }
      ]
    },
    {
      "cell_type": "code",
      "metadata": {
        "id": "XdG7FintO-Fc"
      },
      "source": [
        "def get_CCDF(metrics):\n",
        "  total = len(metrics)\n",
        "  relative_frequencies = dict()\n",
        "  for i in metrics:\n",
        "    if i in relative_frequencies:\n",
        "      relative_frequencies[i] += 1/total\n",
        "    else:\n",
        "      relative_frequencies[i] = 1/total\n",
        "  x = list()\n",
        "  y = list()\n",
        "  degrees = sorted(list(relative_frequencies.keys()))\n",
        "  for k in degrees:\n",
        "    fraction_up_to_K = 0\n",
        "    for j in relative_frequencies.keys():\n",
        "        if j < k:\n",
        "          fraction_up_to_K += relative_frequencies[j]\n",
        "    x.append(k)\n",
        "    y.append(1 - fraction_up_to_K)\n",
        "  return x,y"
      ],
      "execution_count": null,
      "outputs": []
    },
    {
      "cell_type": "code",
      "metadata": {
        "id": "olyGbjkKl3SE"
      },
      "source": [
        "def get_distance(G):\n",
        "  #lengths = dict()\n",
        "  lengths = list()\n",
        "  #retorna um dicionário onde a chave é a distância e o valor quantas vezes \n",
        "  #ela se repete no grafo\n",
        "  if G.is_directed():\n",
        "    for u in G.get_vertices():\n",
        "      for v in G.get_vertices():\n",
        "        if v>u:\n",
        "          dist = gt.topology.shortest_distance(G,u,v)\n",
        "          if dist < len(G.get_vertices()):\n",
        "            lengths.append(dist)\n",
        "  else:\n",
        "    for u in G.get_vertices():\n",
        "      for v in G.get_vertices():\n",
        "        if v>u:\n",
        "          dist = gt.topology.shortest_distance(G,u,v)\n",
        "          if dist < len(G.get_vertices()):\n",
        "            lengths.append(dist)\n",
        "  return lengths"
      ],
      "execution_count": null,
      "outputs": []
    },
    {
      "cell_type": "code",
      "metadata": {
        "id": "Tg17fYsvpFOC"
      },
      "source": [
        "def ecdf2(data):\n",
        "    \"\"\"Compute ECDF for a one-dimensional array of measurements.\"\"\"\n",
        "    # Number of data points: n\n",
        "    n = len(data)\n",
        "\n",
        "    # x-data for the ECDF: x\n",
        "    x = np.sort(data)\n",
        "\n",
        "    # y-data for the ECDF: y\n",
        "    y = np.arange(1, n+1) / n\n",
        "\n",
        "    return x, y"
      ],
      "execution_count": null,
      "outputs": []
    },
    {
      "cell_type": "code",
      "metadata": {
        "id": "nuTmwpsSs1hd"
      },
      "source": [
        "def get_connected_components(G):\n",
        "  # label the components in a property map\n",
        "  c = label_components(G)[0]\n",
        "  cc = list()\n",
        "  total_components = int(np.max(c.get_array())) + 1\n",
        "  for i in range(total_components):\n",
        "    u = GraphView(G, vfilt=c.a == i)\n",
        "    cc.append(len(u.get_vertices()))\n",
        "  return cc\n",
        "\n"
      ],
      "execution_count": null,
      "outputs": []
    },
    {
      "cell_type": "code",
      "metadata": {
        "id": "IVlBPMHLsuZB"
      },
      "source": [
        "def get_betweenness(G):\n",
        "  c = betweenness(G)\n",
        "  if type(c) is tuple:\n",
        "    c = c[0]\n",
        "  return np.array(c.get_array())"
      ],
      "execution_count": null,
      "outputs": []
    },
    {
      "cell_type": "code",
      "metadata": {
        "id": "BbClajIts-tx"
      },
      "source": [
        "def get_closeness(G):\n",
        "  c = closeness(G)\n",
        "  if type(c) is tuple:\n",
        "    c = c[0]\n",
        "  return np.array(c.get_array())"
      ],
      "execution_count": null,
      "outputs": []
    },
    {
      "cell_type": "code",
      "metadata": {
        "id": "XCZvrE3OQpSe"
      },
      "source": [
        "def get_metrics(G):\n",
        "  metrics = dict()\n",
        "  metrics['degree'] =  G.get_out_degrees(G.get_vertices())\n",
        "  metrics['distance'] = get_distance(G)\n",
        "  metrics['tam_CC'] = get_connected_components(G)\n",
        "  metrics['betweenness'] = get_betweenness(G)\n",
        "  metrics['closeness'] = get_closeness(G)\n",
        "  return metrics"
      ],
      "execution_count": null,
      "outputs": []
    },
    {
      "cell_type": "code",
      "metadata": {
        "id": "o8nRIwP1tUTG",
        "colab": {
          "base_uri": "https://localhost:8080/"
        },
        "outputId": "5440219e-16e7-40b1-9b63-6149f133f6f5"
      },
      "source": [
        "c = betweenness(graphs[0])\n",
        "c"
      ],
      "execution_count": null,
      "outputs": [
        {
          "output_type": "execute_result",
          "data": {
            "text/plain": [
              "(<VertexPropertyMap object with value type 'double', for Graph 0x7f7d54ca4390, at 0x7f7d5d738390>,\n",
              " <EdgePropertyMap object with value type 'double', for Graph 0x7f7d54ca4390, at 0x7f7d5d738400>)"
            ]
          },
          "metadata": {
            "tags": []
          },
          "execution_count": 13
        }
      ]
    },
    {
      "cell_type": "code",
      "metadata": {
        "id": "MlnaZ_dotbys",
        "colab": {
          "base_uri": "https://localhost:8080/"
        },
        "outputId": "f9cd54fe-c502-4395-d805-bad616bd9549"
      },
      "source": [
        "type(c) is tuple"
      ],
      "execution_count": null,
      "outputs": [
        {
          "output_type": "execute_result",
          "data": {
            "text/plain": [
              "True"
            ]
          },
          "metadata": {
            "tags": []
          },
          "execution_count": 14
        }
      ]
    },
    {
      "cell_type": "code",
      "metadata": {
        "id": "0V5P1DG9S_de"
      },
      "source": [
        "graphs_metrics = list()\n",
        "for G in graphs:\n",
        "  graphs_metrics.append(get_metrics(G))"
      ],
      "execution_count": null,
      "outputs": []
    },
    {
      "cell_type": "code",
      "metadata": {
        "id": "Pj1DcO6loFuD"
      },
      "source": [
        "data = [      ['mean',0,0,0],\n",
        "              ['median',0,1,0]\n",
        "        ]"
      ],
      "execution_count": null,
      "outputs": []
    },
    {
      "cell_type": "code",
      "metadata": {
        "id": "UIegn8OxqZPL"
      },
      "source": [
        ""
      ],
      "execution_count": null,
      "outputs": []
    },
    {
      "cell_type": "code",
      "metadata": {
        "id": "iA-YVZeajeff",
        "colab": {
          "base_uri": "https://localhost:8080/",
          "height": 112
        },
        "outputId": "cdf31344-ccc8-4764-df92-f3052c8426fc"
      },
      "source": [
        "#g = graph_tool.load_graph_from_csv(path+'p2p-Gnutella04.txt',directed=True,csv_options={'delimiter':'\\t'})\n",
        "df = pd.DataFrame(data,columns=['id','degree','distance','tam_cc'])\n",
        "df.set_index('id')\n",
        "df"
      ],
      "execution_count": null,
      "outputs": [
        {
          "output_type": "execute_result",
          "data": {
            "text/html": [
              "<div>\n",
              "<style scoped>\n",
              "    .dataframe tbody tr th:only-of-type {\n",
              "        vertical-align: middle;\n",
              "    }\n",
              "\n",
              "    .dataframe tbody tr th {\n",
              "        vertical-align: top;\n",
              "    }\n",
              "\n",
              "    .dataframe thead th {\n",
              "        text-align: right;\n",
              "    }\n",
              "</style>\n",
              "<table border=\"1\" class=\"dataframe\">\n",
              "  <thead>\n",
              "    <tr style=\"text-align: right;\">\n",
              "      <th></th>\n",
              "      <th>id</th>\n",
              "      <th>degree</th>\n",
              "      <th>distance</th>\n",
              "      <th>tam_cc</th>\n",
              "    </tr>\n",
              "  </thead>\n",
              "  <tbody>\n",
              "    <tr>\n",
              "      <th>0</th>\n",
              "      <td>mean</td>\n",
              "      <td>0</td>\n",
              "      <td>0</td>\n",
              "      <td>0</td>\n",
              "    </tr>\n",
              "    <tr>\n",
              "      <th>1</th>\n",
              "      <td>median</td>\n",
              "      <td>0</td>\n",
              "      <td>1</td>\n",
              "      <td>0</td>\n",
              "    </tr>\n",
              "  </tbody>\n",
              "</table>\n",
              "</div>"
            ],
            "text/plain": [
              "       id  degree  distance  tam_cc\n",
              "0    mean       0         0       0\n",
              "1  median       0         1       0"
            ]
          },
          "metadata": {
            "tags": []
          },
          "execution_count": 17
        }
      ]
    },
    {
      "cell_type": "code",
      "metadata": {
        "id": "HVfj0k67jf9E"
      },
      "source": [
        "graphs_metrics[0].keys()\n",
        "def display_metrics_stats(metric_dict):\n",
        "  metrics_matrix = list()\n",
        "  stats = {'mean':np.mean,'std':np.std,'median':np.median,'min':np.min,'max':np.max}\n",
        "  for stat in stats.keys():\n",
        "    row = list()\n",
        "    row.append(stat)\n",
        "    for metric in metric_dict.keys():\n",
        "      row.append(stats[stat](metric_dict[metric]))\n",
        "    metrics_matrix.append(row)\n",
        "  df = pd.DataFrame(metrics_matrix,columns=['id','degree','distance','tam_cc','betweenness','closeness'])\n",
        "  df.set_index('id')\n",
        "  return df"
      ],
      "execution_count": null,
      "outputs": []
    },
    {
      "cell_type": "code",
      "metadata": {
        "id": "4hBJo7cDcdoW",
        "colab": {
          "base_uri": "https://localhost:8080/"
        },
        "outputId": "c9cfbf8d-79e9-41bc-e22e-7b90abca8af4"
      },
      "source": [
        "get_CCDF(graphs_metrics[1]['closeness'])"
      ],
      "execution_count": null,
      "outputs": [
        {
          "output_type": "execute_result",
          "data": {
            "text/plain": [
              "([0.3575418994413408,\n",
              "  0.40764331210191085,\n",
              "  0.4129032258064516,\n",
              "  0.4155844155844156,\n",
              "  0.423841059602649,\n",
              "  0.42953020134228187,\n",
              "  0.4383561643835616,\n",
              "  0.4413793103448276,\n",
              "  0.4507042253521127,\n",
              "  0.46715328467153283,\n",
              "  0.47058823529411764,\n",
              "  0.48484848484848486,\n",
              "  0.49230769230769234,\n",
              "  0.49612403100775193,\n",
              "  0.5,\n",
              "  0.512,\n",
              "  0.5161290322580645,\n",
              "  0.5203252032520326,\n",
              "  0.5245901639344263,\n",
              "  0.5333333333333333,\n",
              "  0.5378151260504201,\n",
              "  0.5423728813559322,\n",
              "  0.5470085470085471,\n",
              "  0.5565217391304348,\n",
              "  0.5614035087719298,\n",
              "  0.5714285714285714,\n",
              "  0.5765765765765766,\n",
              "  0.5818181818181818,\n",
              "  0.5871559633027523,\n",
              "  0.6037735849056604,\n",
              "  0.6095238095238096,\n",
              "  0.6213592233009708,\n",
              "  0.6274509803921569,\n",
              "  0.64,\n",
              "  0.6530612244897959,\n",
              "  0.6597938144329897,\n",
              "  0.6666666666666666,\n",
              "  0.6881720430107527,\n",
              "  0.6956521739130435,\n",
              "  0.7619047619047619],\n",
              " [1,\n",
              "  0.9846153846153847,\n",
              "  0.9692307692307692,\n",
              "  0.9384615384615385,\n",
              "  0.9230769230769231,\n",
              "  0.9076923076923077,\n",
              "  0.8923076923076922,\n",
              "  0.8769230769230769,\n",
              "  0.8615384615384616,\n",
              "  0.8461538461538461,\n",
              "  0.8153846153846154,\n",
              "  0.7846153846153846,\n",
              "  0.7692307692307692,\n",
              "  0.7384615384615385,\n",
              "  0.7230769230769231,\n",
              "  0.6923076923076923,\n",
              "  0.6615384615384615,\n",
              "  0.6461538461538461,\n",
              "  0.6,\n",
              "  0.5846153846153845,\n",
              "  0.5692307692307692,\n",
              "  0.5538461538461539,\n",
              "  0.523076923076923,\n",
              "  0.476923076923077,\n",
              "  0.4615384615384617,\n",
              "  0.41538461538461546,\n",
              "  0.40000000000000013,\n",
              "  0.3846153846153848,\n",
              "  0.3692307692307695,\n",
              "  0.3384615384615386,\n",
              "  0.30769230769230793,\n",
              "  0.2461538461538466,\n",
              "  0.21538461538461573,\n",
              "  0.18461538461538485,\n",
              "  0.1538461538461542,\n",
              "  0.09230769230769265,\n",
              "  0.0769230769230771,\n",
              "  0.046153846153846434,\n",
              "  0.030769230769231104,\n",
              "  0.015384615384615774])"
            ]
          },
          "metadata": {
            "tags": []
          },
          "execution_count": 19
        }
      ]
    },
    {
      "cell_type": "code",
      "metadata": {
        "id": "MgDUHZ70rVXg",
        "colab": {
          "base_uri": "https://localhost:8080/"
        },
        "outputId": "8445065a-3586-42c2-8365-1f7c87f70c4e"
      },
      "source": [
        "graph_names = ['karate','cat connectome','word ajacency','les miserables']\n",
        "for graph in range(len(graphs_metrics)):\n",
        "  spacing = '=================================================================='\n",
        "  head = '=================== '+graph_names[graph]+' '\n",
        "  print(head+(len(spacing) - len(head))*'=')\n",
        "  print(display_metrics_stats(graphs_metrics[graph]))\n",
        "  print(spacing)"
      ],
      "execution_count": null,
      "outputs": [
        {
          "output_type": "stream",
          "text": [
            "=================== karate =======================================\n",
            "       id     degree  distance  tam_cc  betweenness  closeness\n",
            "0    mean   4.588235    2.4082    34.0     0.044006   0.426480\n",
            "1     std   3.820361    0.9303     0.0     0.092543   0.071024\n",
            "2  median   3.000000    2.0000    34.0     0.002566   0.383721\n",
            "3     min   1.000000    1.0000    34.0     0.000000   0.284483\n",
            "4     max  17.000000    5.0000    34.0     0.437635   0.568966\n",
            "==================================================================\n",
            "=================== cat connectome ===============================\n",
            "       id     degree  distance  tam_cc  betweenness  closeness\n",
            "0    mean  17.523077  1.896635    65.0     0.013687   0.550359\n",
            "1     std   9.888778  0.640304     0.0     0.019324   0.084236\n",
            "2  median  16.000000  2.000000    65.0     0.006311   0.547009\n",
            "3     min   2.000000  1.000000    65.0     0.000000   0.357542\n",
            "4     max  44.000000  4.000000    65.0     0.092542   0.761905\n",
            "==================================================================\n",
            "=================== word ajacency ================================\n",
            "       id     degree  distance  tam_cc  betweenness  closeness\n",
            "0    mean   7.589286  2.535553   112.0     0.013960   0.403288\n",
            "1     std   6.851165  0.772782     0.0     0.029707   0.059244\n",
            "2  median   6.000000  3.000000   112.0     0.004718   0.408841\n",
            "3     min   1.000000  1.000000   112.0     0.000000   0.267470\n",
            "4     max  49.000000  5.000000   112.0     0.244685   0.616667\n",
            "==================================================================\n",
            "=================== les miserables ===============================\n",
            "       id     degree  distance  tam_cc  betweenness  closeness\n",
            "0    mean   6.597403  2.641148    77.0     0.021882   0.389341\n",
            "1     std   6.000562  0.855445     0.0     0.072116   0.066685\n",
            "2  median   6.000000  3.000000    77.0     0.000000   0.393782\n",
            "3     min   1.000000  1.000000    77.0     0.000000   0.256757\n",
            "4     max  36.000000  5.000000    77.0     0.569989   0.644068\n",
            "==================================================================\n"
          ],
          "name": "stdout"
        }
      ]
    },
    {
      "cell_type": "code",
      "metadata": {
        "id": "aJbhKh_V0390"
      },
      "source": [
        "xlabels = ['degree','distance','betweenness','closeness']\n",
        "ylabels = ['Fração vértices de grau >= K','Fração caminhos de tamanho >= K','Fração vértices de betweenness >= K','Fração vértices de closenness >= K']\n",
        "titles = ['CCDF_distribuicao_grau','CCDF_distribuicao_distancia','CCDF_distribuicao_betweenness','CCDF_distribuicao_closeness']"
      ],
      "execution_count": null,
      "outputs": []
    },
    {
      "cell_type": "code",
      "metadata": {
        "id": "VcRqh-WZYK-x",
        "colab": {
          "base_uri": "https://localhost:8080/",
          "height": 573
        },
        "outputId": "73cdbf48-d960-4612-b28b-cf28526c9772"
      },
      "source": [
        "for i in range(len(xlabels)):\n",
        "  if i%2 == 0:\n",
        "    fig, axs = plt.subplots(1, 2)\n",
        "    fig.set_size_inches(10,4)\n",
        "  for j in range(len(graph_names)):\n",
        "    x,y = get_CCDF(graphs_metrics[j][xlabels[i]])\n",
        "    axs[i%2].plot(x,y)\n",
        "  axs[i%2].legend(graph_names)\n",
        "  axs[i%2].set(xlabel = xlabels[i],ylabel=ylabels[i])\n",
        "  axs[i%2].set_title('log-log'+titles[i])\n",
        "  if i%2 == 1:\n",
        "    plt.savefig('log-log'+titles[i]+titles[i-1]+'.png')\n",
        "    plt.show()"
      ],
      "execution_count": null,
      "outputs": [
        {
          "output_type": "display_data",
          "data": {
            "image/png": "[encoded data removed]",
            "text/plain": [
              "<Figure size 720x288 with 2 Axes>"
            ]
          },
          "metadata": {
            "tags": [],
            "needs_background": "light"
          }
        },
        {
          "output_type": "display_data",
          "data": {
            "image/png": "[encoded data removed]",
            "text/plain": [
              "<Figure size 720x288 with 2 Axes>"
            ]
          },
          "metadata": {
            "tags": [],
            "needs_background": "light"
          }
        }
      ]
    },
    {
      "cell_type": "code",
      "metadata": {
        "id": "QQOz_VmK1pCT",
        "colab": {
          "base_uri": "https://localhost:8080/",
          "height": 295
        },
        "outputId": "fc26477e-6ccf-4576-8c2d-7233a8c4b8f4"
      },
      "source": [
        "for gm in graphs_metrics:\n",
        "  x,y = get_CCDF(gm['tam_CC'])\n",
        "  y[0] = 0\n",
        "  x.extend([0])\n",
        "  y.extend([1])\n",
        "  plt.step(x,y)\n",
        "plt.legend(graph_names)\n",
        "plt.xlabel('Tamanho das componentes conexas')\n",
        "plt.ylabel('Fração subgrafos de tamanho >= K')\n",
        "plt.title('CCDF_distribuicao_componentes_conexas')\n",
        "#plt.savefig(titles[i]+'.png')\n",
        "plt.savefig('tam_CC.png')\n",
        "plt.show()"
      ],
      "execution_count": null,
      "outputs": [
        {
          "output_type": "display_data",
          "data": {
            "image/png": "[encoded data removed]",
            "text/plain": [
              "<Figure size 432x288 with 1 Axes>"
            ]
          },
          "metadata": {
            "tags": [],
            "needs_background": "light"
          }
        }
      ]
    }
  ]
}