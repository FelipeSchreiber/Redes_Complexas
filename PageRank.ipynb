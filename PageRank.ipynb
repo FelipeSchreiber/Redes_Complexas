{
  "nbformat": 4,
  "nbformat_minor": 0,
  "metadata": {
    "colab": {
      "name": "PageRank.ipynb",
      "provenance": [],
      "collapsed_sections": []
    },
    "kernelspec": {
      "name": "python3",
      "display_name": "Python 3"
    }
  },
  "cells": [
    {
      "cell_type": "code",
      "metadata": {
        "id": "_aZIz07-UCGf"
      },
      "source": [
        "import numpy as np"
      ],
      "execution_count": null,
      "outputs": []
    },
    {
      "cell_type": "code",
      "metadata": {
        "id": "hARHzEVQULag"
      },
      "source": [
        "adjacency_matrix = np.array(\n",
        "[[0,0,1,1,0],\n",
        " [1,0,0,0,1],\n",
        " [0,0,0,1,0],\n",
        " [0,1,0,0,1],\n",
        " [0,0,0,1,0]])"
      ],
      "execution_count": null,
      "outputs": []
    },
    {
      "cell_type": "code",
      "metadata": {
        "id": "2VCjscj0bK5t",
        "colab": {
          "base_uri": "https://localhost:8080/"
        },
        "outputId": "ccbd7a2f-03d6-444a-f59d-0d6e35fd6be5"
      },
      "source": [
        "np.divide([1,1,1,1],[.5,.5,.3,.2])"
      ],
      "execution_count": null,
      "outputs": [
        {
          "output_type": "execute_result",
          "data": {
            "text/plain": [
              "array([2.        , 2.        , 3.33333333, 5.        ])"
            ]
          },
          "metadata": {
            "tags": []
          },
          "execution_count": 8
        }
      ]
    },
    {
      "cell_type": "code",
      "metadata": {
        "id": "4MaKNjmbXjN9"
      },
      "source": [
        "def PageRank(alpha,adjacency_matrix,iterations):\n",
        "  eig_vals,_ = np.linalg.eig(adjacency_matrix)\n",
        "  k = np.max(eig_vals)\n",
        "  x = np.zeros(adjacency_matrix.shape[0])\n",
        "  degree_out = np.sum(adjacency_matrix,axis=1)\n",
        "  if alpha >= 1/float(k):\n",
        "    print('Não Converge')\n",
        "    #return np.nan\n",
        "  beta = (1-alpha)/adjacency_matrix.shape[0]\n",
        "  x.fill(beta)\n",
        "  for i in range(iterations):\n",
        "    x = np.divide(x,degree_out)\n",
        "    x = np.matmul(adjacency_matrix.T,x)\n",
        "    x = x/np.sum(x)\n",
        "  return x\n"
      ],
      "execution_count": null,
      "outputs": []
    },
    {
      "cell_type": "code",
      "metadata": {
        "id": "AYOerjkdWb4E",
        "colab": {
          "base_uri": "https://localhost:8080/"
        },
        "outputId": "11936b38-bab5-47fb-df17-a76f18cc1cd4"
      },
      "source": [
        "alphas = [0.1,0.9]\n",
        "iterations = [5,10,30]\n",
        "for a in alphas:\n",
        "  for i in iterations:\n",
        "    print(\"\\n a = \",a,\" iterations = \",i,\"\\n\",PageRank(a,adjacency_matrix,i))"
      ],
      "execution_count": null,
      "outputs": [
        {
          "output_type": "stream",
          "text": [
            "\n",
            " a =  0.1  iterations =  5 \n",
            " [0.09375 0.19375 0.04375 0.38125 0.2875 ]\n",
            "\n",
            " a =  0.1  iterations =  10 \n",
            " [0.09511719 0.19042969 0.04785156 0.38105469 0.28554687]\n",
            "\n",
            " a =  0.1  iterations =  30 \n",
            " [0.0952381  0.19047619 0.04761905 0.38095238 0.28571429]\n",
            "Não Converge\n",
            "\n",
            " a =  0.9  iterations =  5 \n",
            " [0.09375 0.19375 0.04375 0.38125 0.2875 ]\n",
            "Não Converge\n",
            "\n",
            " a =  0.9  iterations =  10 \n",
            " [0.09511719 0.19042969 0.04785156 0.38105469 0.28554687]\n",
            "Não Converge\n",
            "\n",
            " a =  0.9  iterations =  30 \n",
            " [0.0952381  0.19047619 0.04761905 0.38095238 0.28571429]\n"
          ],
          "name": "stdout"
        },
        {
          "output_type": "stream",
          "text": [
            "/usr/local/lib/python3.6/dist-packages/ipykernel_launcher.py:6: ComplexWarning: Casting complex values to real discards the imaginary part\n",
            "  \n"
          ],
          "name": "stderr"
        }
      ]
    }
  ]
}